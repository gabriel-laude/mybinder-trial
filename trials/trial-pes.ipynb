{
 "cells": [
  {
   "cell_type": "code",
   "execution_count": 1,
   "metadata": {
    "slideshow": {
     "slide_type": "skip"
    }
   },
   "outputs": [],
   "source": [
    "from matplotlib import pyplot as plt\n",
    "import numpy as np\n",
    "import scipy # will not be used, but just want to know availability\n",
    "from ipywidgets import interact, interactive, fixed, interact_manual\n",
    "import ipywidgets as widgets"
   ]
  },
  {
   "cell_type": "markdown",
   "metadata": {
    "slideshow": {
     "slide_type": "slide"
    }
   },
   "source": [
    "# A trial notebook\n",
    "We start with plotting a simple function \n",
    "\\begin{align}\n",
    "  f(x)=(x-i)^2\n",
    "\\end{align}\n",
    "where $i$ is an offset term.\n",
    "\n",
    "The code below plots it for varying user-selected $i$ values through the use of a slider widget."
   ]
  },
  {
   "cell_type": "code",
   "execution_count": 2,
   "metadata": {
    "slideshow": {
     "slide_type": "slide"
    }
   },
   "outputs": [
    {
     "data": {
      "application/vnd.jupyter.widget-view+json": {
       "model_id": "6488d7d710ca4554adffd27cfcecb3c1",
       "version_major": 2,
       "version_minor": 0
      },
      "text/plain": [
       "interactive(children=(IntSlider(value=0, description='i', max=10, step=2), Output()), _dom_classes=('widget-in…"
      ]
     },
     "metadata": {},
     "output_type": "display_data"
    },
    {
     "data": {
      "text/plain": [
       "<function __main__.plot_f(i)>"
      ]
     },
     "execution_count": 2,
     "metadata": {},
     "output_type": "execute_result"
    }
   ],
   "source": [
    "def plot_f(i):\n",
    "  x=np.linspace(-25, 25, 100)\n",
    "  f=np.array([(xi-i)**2  for xi in x])\n",
    "  plt.plot(x, f, 'o-')\n",
    "  plt.xlabel('x')\n",
    "  plt.ylabel('f(x)')\n",
    "\n",
    "interact(plot_f, i=widgets.IntSlider(min=0, max=10, step=2, value=0))"
   ]
  },
  {
   "cell_type": "markdown",
   "metadata": {
    "slideshow": {
     "slide_type": "slide"
    }
   },
   "source": [
    "Now we shall implement the Sqz PES (Nakamura, H., Mil'nikov, G. (2013). Quantum Mechanical Tunneling in Chemical Physics. Boca Raton: CRC Press, https://doi.org/10.1201/b14673), where the PES is given by\n",
    "\n",
    "\\begin{align}\n",
    "  V = \\frac{1}{8}(x-1)^2(x+1)^2 + \\frac{1}{2} \\left[\\omega_y^2 - \\gamma (x^2 - 1) \\right]y^2\n",
    "\\end{align}\n",
    "\n",
    "Here the user can vary $\\omega_y^2 = \\frac{\\text{d}^2 V}{\\text{d}y^2}$."
   ]
  },
  {
   "cell_type": "code",
   "execution_count": 3,
   "metadata": {
    "slideshow": {
     "slide_type": "slide"
    }
   },
   "outputs": [
    {
     "data": {
      "application/vnd.jupyter.widget-view+json": {
       "model_id": "c79d98495b904a7fb2ec5c9f36adb6d7",
       "version_major": 2,
       "version_minor": 0
      },
      "text/plain": [
       "interactive(children=(FloatSlider(value=0.1, description='omega_y', max=0.5, min=0.1), Output()), _dom_classes…"
      ]
     },
     "metadata": {},
     "output_type": "display_data"
    },
    {
     "data": {
      "text/plain": [
       "<function __main__.plot_contours(omega_y)>"
      ]
     },
     "execution_count": 3,
     "metadata": {},
     "output_type": "execute_result"
    }
   ],
   "source": [
    "def V_sqz(x, omega_y, gamma):\n",
    "  x, y = x[...,0], x[...,1]\n",
    "  V=0.125*(x-1)**2*(x+1)**2 + 0.5*(omega_y**2 - gamma*(x**2-1))*y**2\n",
    "  return V\n",
    "\n",
    "def plot_contours(omega_y):\n",
    "  # generate potential values\n",
    "  gamma=0.2\n",
    "  npts=300 # give user as option?\n",
    "  x=np.linspace(-2, 2, npts)\n",
    "  y=np.linspace(-2, 2, npts)\n",
    "  V=np.empty((npts,npts))\n",
    "  for i in range(npts):\n",
    "    for j in range(npts):\n",
    "      V[i,j]=V_sqz(np.array([x[i], y[j]]), omega_y, gamma)\n",
    "\n",
    "  # contour plot generation\n",
    "  ax=plt.gca()\n",
    "  X, Y=np.meshgrid(x, y)\n",
    "  CS=ax.contour(X, Y, V, np.linspace(0,0.2,8))\n",
    "  ax.set_xbound(-2,2)\n",
    "  ax.set_ybound(-1.0,1.0)\n",
    "  \n",
    "interact(plot_contours, omega_y=widgets.FloatSlider(min=0.1, max=0.5, step=0.1, value=0.1)) "
   ]
  },
  {
   "cell_type": "code",
   "execution_count": null,
   "metadata": {
    "slideshow": {
     "slide_type": "skip"
    }
   },
   "outputs": [],
   "source": []
  }
 ],
 "metadata": {
  "celltoolbar": "Slideshow",
  "kernelspec": {
   "display_name": "Python 3",
   "language": "python",
   "name": "python3"
  },
  "language_info": {
   "codemirror_mode": {
    "name": "ipython",
    "version": 3
   },
   "file_extension": ".py",
   "mimetype": "text/x-python",
   "name": "python",
   "nbconvert_exporter": "python",
   "pygments_lexer": "ipython3",
   "version": "3.7.8"
  }
 },
 "nbformat": 4,
 "nbformat_minor": 4
}
